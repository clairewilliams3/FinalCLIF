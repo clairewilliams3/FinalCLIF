{
 "cells": [
  {
   "cell_type": "code",
   "execution_count": 444,
   "id": "b6c94c85-ce83-43bb-bb42-5c0311f18d38",
   "metadata": {},
   "outputs": [],
   "source": [
    "import pandas as pd\n",
    "import pytz\n",
    "#import data\n",
    "chart_df = pd.read_csv('C:/Users/clair/OneDrive/Documents/Emory/Career/CLIFProject/chartevents4.csv')\n",
    "mappings = pd.read_csv('C:/Users/clair/OneDrive/Documents/Emory/Career/CLIFProject/mappings.csv')\n",
    "\n",
    "#make sure they read in correctly\n",
    "#print(chart_df.head)\n",
    "#print(mappings.head)"
   ]
  },
  {
   "cell_type": "code",
   "execution_count": 446,
   "id": "2062a924-693d-4944-991d-17f84cf49149",
   "metadata": {},
   "outputs": [
    {
     "name": "stdout",
     "output_type": "stream",
     "text": [
      "Index(['subject_id', 'hadm_id', 'stay_id', 'caregiver_id', 'charttime',\n",
      "       'storetime', 'itemid', 'value', 'valuenum', 'valueuom', 'warning'],\n",
      "      dtype='object')\n",
      "Index(['vital_category', 'meas_site_name', 'itemid', 'label = vital_name',\n",
      "       'abbreviation', 'linksto', 'category', 'unitname', 'param_type',\n",
      "       'count', 'value_instances', 'note / comment', 'status', 'Unnamed: 13',\n",
      "       'Temperature Site', 'meas_site_name.1'],\n",
      "      dtype='object')\n"
     ]
    }
   ],
   "source": [
    "#print column names\n",
    "print(chart_df.columns)\n",
    "print(mappings.columns)\n",
    "\n",
    "#important variables from https://clif-consortium.github.io/website/data-dictionary.html#vitals\n",
    "#  hospitalization_id -> hadm_id\n",
    "#  recorded_dttm -> charttime\n",
    "#  vital_name -> label...vital_name\n",
    "#  vital_category\n",
    "#  vital_value -> valuenum\n",
    "#  meas_site_name\n",
    "#important to note that valueuom has units\n",
    "#need itemid to merge\n",
    "\n",
    "#there's a good bit of information in mappings that we don't need, let's narrow the dataset\n",
    "mappings_thin = mappings[['itemid', 'vital_category', 'label = vital_name', 'meas_site_name']]"
   ]
  },
  {
   "cell_type": "code",
   "execution_count": 448,
   "id": "a263b624-d3cb-4279-95da-aedf127481d9",
   "metadata": {},
   "outputs": [
    {
     "name": "stdout",
     "output_type": "stream",
     "text": [
      "chart_df: (668862, 11)\n",
      "mappings: (61, 16)\n",
      "merged_data: (125770, 26)\n"
     ]
    }
   ],
   "source": [
    "#now let's merge mappings and chart_df by itemid using an inner join\n",
    "merged_data = pd.merge(chart_df, mappings, on = 'itemid', how = 'inner')\n",
    "\n",
    "#check and make sure that went well\n",
    "print(\"chart_df:\", chart_df.shape)\n",
    "print(\"mappings:\", mappings.shape)\n",
    "print(\"merged_data:\", merged_data.shape)\n",
    "#looks good!"
   ]
  },
  {
   "cell_type": "code",
   "execution_count": 450,
   "id": "ba0d64f0-a558-4dca-b740-fcc9908f1297",
   "metadata": {},
   "outputs": [
    {
     "name": "stdout",
     "output_type": "stream",
     "text": [
      "<class 'pandas.core.frame.DataFrame'>\n",
      "RangeIndex: 125770 entries, 0 to 125769\n",
      "Data columns (total 26 columns):\n",
      " #   Column              Non-Null Count   Dtype  \n",
      "---  ------              --------------   -----  \n",
      " 0   subject_id          125770 non-null  int64  \n",
      " 1   hadm_id             125770 non-null  int64  \n",
      " 2   stay_id             125770 non-null  int64  \n",
      " 3   caregiver_id        125770 non-null  float64\n",
      " 4   charttime           125770 non-null  object \n",
      " 5   storetime           125770 non-null  object \n",
      " 6   itemid              125770 non-null  int64  \n",
      " 7   value               125770 non-null  object \n",
      " 8   valuenum            97031 non-null   float64\n",
      " 9   valueuom            96795 non-null   object \n",
      " 10  warning             125770 non-null  float64\n",
      " 11  vital_category      125770 non-null  object \n",
      " 12  meas_site_name      124822 non-null  object \n",
      " 13  label = vital_name  125770 non-null  object \n",
      " 14  abbreviation        125770 non-null  object \n",
      " 15  linksto             8512 non-null    object \n",
      " 16  category            125770 non-null  object \n",
      " 17  unitname            96795 non-null   object \n",
      " 18  param_type          125770 non-null  object \n",
      " 19  count               125770 non-null  int64  \n",
      " 20  value_instances     53165 non-null   object \n",
      " 21  note / comment      40767 non-null   object \n",
      " 22  status              124822 non-null  object \n",
      " 23  Unnamed: 13         0 non-null       float64\n",
      " 24  Temperature Site    14691 non-null   object \n",
      " 25  meas_site_name.1    14691 non-null   object \n",
      "dtypes: float64(4), int64(5), object(17)\n",
      "memory usage: 24.9+ MB\n"
     ]
    }
   ],
   "source": [
    "#let's investigate our variables\n",
    "merged_data.info()\n",
    "#let's only keep the necessary variables\n",
    "merged_data = merged_data[['itemid', 'hadm_id', 'charttime', 'label = vital_name', 'vital_category', 'valuenum', 'valueuom', 'meas_site_name']]"
   ]
  },
  {
   "cell_type": "code",
   "execution_count": 452,
   "id": "21001e5a-df6b-4d13-ad1c-6ca27572b49c",
   "metadata": {},
   "outputs": [
    {
     "name": "stdout",
     "output_type": "stream",
     "text": [
      "<class 'pandas.core.frame.DataFrame'>\n",
      "RangeIndex: 125770 entries, 0 to 125769\n",
      "Data columns (total 8 columns):\n",
      " #   Column              Non-Null Count   Dtype  \n",
      "---  ------              --------------   -----  \n",
      " 0   itemid              125770 non-null  int64  \n",
      " 1   hadm_id             125770 non-null  int64  \n",
      " 2   charttime           125770 non-null  object \n",
      " 3   label = vital_name  125770 non-null  object \n",
      " 4   vital_category      125770 non-null  object \n",
      " 5   valuenum            97031 non-null   float64\n",
      " 6   valueuom            96795 non-null   object \n",
      " 7   meas_site_name      124822 non-null  object \n",
      "dtypes: float64(1), int64(2), object(5)\n",
      "memory usage: 7.7+ MB\n"
     ]
    }
   ],
   "source": [
    "#let's look at our variables again\n",
    "merged_data.info()\n",
    "#looks good!"
   ]
  },
  {
   "cell_type": "code",
   "execution_count": 454,
   "id": "b0a7b581-ad73-4137-b000-f410e9e9a4ef",
   "metadata": {},
   "outputs": [
    {
     "name": "stdout",
     "output_type": "stream",
     "text": [
      "<class 'pandas.core.frame.DataFrame'>\n",
      "RangeIndex: 125770 entries, 0 to 125769\n",
      "Data columns (total 8 columns):\n",
      " #   Column              Non-Null Count   Dtype  \n",
      "---  ------              --------------   -----  \n",
      " 0   itemid              125770 non-null  int64  \n",
      " 1   hospitalization_id  125770 non-null  int64  \n",
      " 2   recorded_dttm       125770 non-null  object \n",
      " 3   vital_name          125770 non-null  object \n",
      " 4   vital_category      125770 non-null  object \n",
      " 5   vital_value         97031 non-null   float64\n",
      " 6   valueuom            96795 non-null   object \n",
      " 7   meas_site_name      124822 non-null  object \n",
      "dtypes: float64(1), int64(2), object(5)\n",
      "memory usage: 7.7+ MB\n"
     ]
    }
   ],
   "source": [
    "#let's change the names of our variables\n",
    "merged_data = merged_data.rename(columns = {'hadm_id' : 'hospitalization_id', 'charttime' : 'recorded_dttm', 'label = vital_name' : 'vital_name', \n",
    "                                            'valuenum' : 'vital_value'})\n",
    "merged_data.info()\n",
    "#looks good!"
   ]
  },
  {
   "cell_type": "code",
   "execution_count": 456,
   "id": "6d57f731-8ceb-46d5-b2a5-c8c546bc323c",
   "metadata": {},
   "outputs": [
    {
     "data": {
      "text/html": [
       "<div>\n",
       "<style scoped>\n",
       "    .dataframe tbody tr th:only-of-type {\n",
       "        vertical-align: middle;\n",
       "    }\n",
       "\n",
       "    .dataframe tbody tr th {\n",
       "        vertical-align: top;\n",
       "    }\n",
       "\n",
       "    .dataframe thead th {\n",
       "        text-align: right;\n",
       "    }\n",
       "</style>\n",
       "<table border=\"1\" class=\"dataframe\">\n",
       "  <thead>\n",
       "    <tr style=\"text-align: right;\">\n",
       "      <th></th>\n",
       "      <th>itemid</th>\n",
       "      <th>hospitalization_id</th>\n",
       "      <th>recorded_dttm</th>\n",
       "      <th>vital_name</th>\n",
       "      <th>vital_category</th>\n",
       "      <th>vital_value</th>\n",
       "      <th>valueuom</th>\n",
       "      <th>meas_site_name</th>\n",
       "    </tr>\n",
       "  </thead>\n",
       "  <tbody>\n",
       "    <tr>\n",
       "      <th>0</th>\n",
       "      <td>223769</td>\n",
       "      <td>20626031</td>\n",
       "      <td>12/16/2132 0:00</td>\n",
       "      <td>O2 Saturation Pulseoxymetry Alarm - High</td>\n",
       "      <td>NO MAPPING</td>\n",
       "      <td>100.0</td>\n",
       "      <td>%</td>\n",
       "      <td>NO MAPPING</td>\n",
       "    </tr>\n",
       "    <tr>\n",
       "      <th>1</th>\n",
       "      <td>223935</td>\n",
       "      <td>20626031</td>\n",
       "      <td>12/16/2132 0:00</td>\n",
       "      <td>PostTib. Pulses R</td>\n",
       "      <td>NO MAPPING</td>\n",
       "      <td>NaN</td>\n",
       "      <td>NaN</td>\n",
       "      <td>NO MAPPING</td>\n",
       "    </tr>\n",
       "    <tr>\n",
       "      <th>2</th>\n",
       "      <td>220048</td>\n",
       "      <td>20626031</td>\n",
       "      <td>12/16/2132 0:00</td>\n",
       "      <td>Heart Rhythm</td>\n",
       "      <td>NO MAPPING</td>\n",
       "      <td>NaN</td>\n",
       "      <td>NaN</td>\n",
       "      <td>NO MAPPING</td>\n",
       "    </tr>\n",
       "    <tr>\n",
       "      <th>3</th>\n",
       "      <td>223943</td>\n",
       "      <td>20626031</td>\n",
       "      <td>12/16/2132 0:00</td>\n",
       "      <td>Dorsal PedPulse L</td>\n",
       "      <td>NO MAPPING</td>\n",
       "      <td>NaN</td>\n",
       "      <td>NaN</td>\n",
       "      <td>NO MAPPING</td>\n",
       "    </tr>\n",
       "    <tr>\n",
       "      <th>4</th>\n",
       "      <td>220060</td>\n",
       "      <td>20626031</td>\n",
       "      <td>12/16/2132 0:00</td>\n",
       "      <td>Pulmonary Artery Pressure diastolic</td>\n",
       "      <td>NO MAPPING</td>\n",
       "      <td>12.0</td>\n",
       "      <td>mmHg</td>\n",
       "      <td>NO MAPPING</td>\n",
       "    </tr>\n",
       "  </tbody>\n",
       "</table>\n",
       "</div>"
      ],
      "text/plain": [
       "   itemid  hospitalization_id    recorded_dttm  \\\n",
       "0  223769            20626031  12/16/2132 0:00   \n",
       "1  223935            20626031  12/16/2132 0:00   \n",
       "2  220048            20626031  12/16/2132 0:00   \n",
       "3  223943            20626031  12/16/2132 0:00   \n",
       "4  220060            20626031  12/16/2132 0:00   \n",
       "\n",
       "                                 vital_name vital_category  vital_value  \\\n",
       "0  O2 Saturation Pulseoxymetry Alarm - High     NO MAPPING        100.0   \n",
       "1                         PostTib. Pulses R     NO MAPPING          NaN   \n",
       "2                              Heart Rhythm     NO MAPPING          NaN   \n",
       "3                         Dorsal PedPulse L     NO MAPPING          NaN   \n",
       "4       Pulmonary Artery Pressure diastolic     NO MAPPING         12.0   \n",
       "\n",
       "  valueuom meas_site_name  \n",
       "0        %     NO MAPPING  \n",
       "1      NaN     NO MAPPING  \n",
       "2      NaN     NO MAPPING  \n",
       "3      NaN     NO MAPPING  \n",
       "4     mmHg     NO MAPPING  "
      ]
     },
     "execution_count": 456,
     "metadata": {},
     "output_type": "execute_result"
    }
   ],
   "source": [
    "#now let's deal with our missing values\n",
    "merged_data.head()\n",
    "#according to the guide, we only have the following vital_categories: temp_c, heart_rate, sbp, dbp, spo2, respiratory_rate, map, height_cm, weight_kg"
   ]
  },
  {
   "cell_type": "code",
   "execution_count": 458,
   "id": "0ab42a2c-39f3-4dcf-a443-178965d680c0",
   "metadata": {},
   "outputs": [
    {
     "name": "stdout",
     "output_type": "stream",
     "text": [
      "vital_category\n",
      "NO MAPPING          29394\n",
      "map                 14390\n",
      "dbp                 14367\n",
      "sbp                 14366\n",
      "respiratory_rate    13913\n",
      "heart_rate          13913\n",
      "spo2                13540\n",
      "temp_c               7564\n",
      "MAPPED ELSEWHERE     3446\n",
      "weight_kg             806\n",
      "height_cm              71\n",
      "Name: count, dtype: int64\n"
     ]
    }
   ],
   "source": [
    "#let's look at vital_categories\n",
    "print(merged_data['vital_category'].value_counts())\n",
    "#we need to remove all rows with NO MAPPING \n",
    "merged_data = merged_data[merged_data['vital_category'] != \"NO MAPPING\"]"
   ]
  },
  {
   "cell_type": "code",
   "execution_count": 460,
   "id": "325b31d3-a2e0-455b-9fcc-1bed4dc4672f",
   "metadata": {},
   "outputs": [
    {
     "name": "stdout",
     "output_type": "stream",
     "text": [
      "vital_category\n",
      "map                 14390\n",
      "dbp                 14367\n",
      "sbp                 14366\n",
      "respiratory_rate    13913\n",
      "heart_rate          13913\n",
      "spo2                13540\n",
      "temp_c               7564\n",
      "weight_kg             806\n",
      "height_cm              71\n",
      "Name: count, dtype: int64\n"
     ]
    }
   ],
   "source": [
    "#we need to remove all rows with MAPPED ELSEWHERE\n",
    "merged_data = merged_data[merged_data['vital_category'] != \"MAPPED ELSEWHERE\"]\n",
    "#let's make sure that worked properly\n",
    "print(merged_data['vital_category'].value_counts())\n",
    "#looks good!"
   ]
  },
  {
   "cell_type": "code",
   "execution_count": 462,
   "id": "0ef2b5c5-f03c-4e45-b4ea-71bc8cc0ce3d",
   "metadata": {},
   "outputs": [
    {
     "name": "stdout",
     "output_type": "stream",
     "text": [
      "valueuom\n",
      "NaN    3794\n",
      "°F     3379\n",
      "°C      391\n",
      "Name: count, dtype: int64\n"
     ]
    }
   ],
   "source": [
    "#another restriction we have has to do with units (in valueuom column)\n",
    "#all vital_category = temp_c must have Celsius as the unit\n",
    "#let's investigate temp_c rows\n",
    "temp_c = merged_data[merged_data['vital_category'] == 'temp_c']\n",
    "print(temp_c['valueuom'].value_counts())"
   ]
  },
  {
   "cell_type": "code",
   "execution_count": 406,
   "id": "0cfd4777-851f-4a82-9f9b-112f507902ed",
   "metadata": {},
   "outputs": [
    {
     "name": "stdout",
     "output_type": "stream",
     "text": [
      "valueuom\n",
      "cm    71\n",
      "Name: count, dtype: int64\n"
     ]
    }
   ],
   "source": [
    "#okay so we need to remove rows with °F\n",
    "merged_data = merged_data[merged_data['valueuom'] != '°F']\n",
    "#now let's make sure all vital_category = height_cm is in centimeters\n",
    "height_cm = merged_data[merged_data['vital_category'] == 'height_cm']\n",
    "print(height_cm['valueuom'].value_counts())\n",
    "#looks good!"
   ]
  },
  {
   "cell_type": "code",
   "execution_count": 442,
   "id": "35c1f291-16c3-4d3f-8d10-37ac1e536fe3",
   "metadata": {},
   "outputs": [
    {
     "name": "stdout",
     "output_type": "stream",
     "text": [
      "valueuom\n",
      "kg    570\n",
      "Name: count, dtype: int64\n"
     ]
    }
   ],
   "source": [
    "#now let's make sure all vital_category = weight_kg is in kg\n",
    "weight_kg = merged_data[merged_data['vital_category'] == 'weight_kg']\n",
    "print(weight_kg['valueuom'].value_counts())\n",
    "#looks good!"
   ]
  },
  {
   "cell_type": "code",
   "execution_count": 410,
   "id": "a98541de-3c22-4d0a-9d66-b61a0a702fb3",
   "metadata": {},
   "outputs": [
    {
     "name": "stdout",
     "output_type": "stream",
     "text": [
      "valueuom\n",
      "mmHg    14390\n",
      "Name: count, dtype: int64\n"
     ]
    }
   ],
   "source": [
    "#now let's make sure all vital_category = map is in mm/Hg\n",
    "vc_map = merged_data[merged_data['vital_category'] == 'map']\n",
    "print(vc_map['valueuom'].value_counts())\n",
    "#looks good!"
   ]
  },
  {
   "cell_type": "code",
   "execution_count": 412,
   "id": "f7869db2-3c39-405b-886a-3c93c1cb53ae",
   "metadata": {},
   "outputs": [
    {
     "name": "stdout",
     "output_type": "stream",
     "text": [
      "valueuom\n",
      "%    13540\n",
      "Name: count, dtype: int64\n"
     ]
    }
   ],
   "source": [
    "#now let's make sure all vital_category = spo2 is in %\n",
    "spo2 = merged_data[merged_data['vital_category'] == 'spo2']\n",
    "print(spo2['valueuom'].value_counts())\n",
    "#looks good!"
   ]
  },
  {
   "cell_type": "code",
   "execution_count": 414,
   "id": "63d7ef51-2865-4952-9cbb-dadff135da96",
   "metadata": {},
   "outputs": [
    {
     "name": "stdout",
     "output_type": "stream",
     "text": [
      "<class 'pandas.core.frame.DataFrame'>\n",
      "Index: 89551 entries, 6 to 125768\n",
      "Data columns (total 8 columns):\n",
      " #   Column              Non-Null Count  Dtype  \n",
      "---  ------              --------------  -----  \n",
      " 0   itemid              89551 non-null  int64  \n",
      " 1   hospitalization_id  89551 non-null  int64  \n",
      " 2   recorded_dttm       89551 non-null  object \n",
      " 3   vital_name          89551 non-null  object \n",
      " 4   vital_category      89551 non-null  object \n",
      " 5   vital_value         85757 non-null  float64\n",
      " 6   valueuom            85521 non-null  object \n",
      " 7   meas_site_name      88674 non-null  object \n",
      "dtypes: float64(1), int64(2), object(5)\n",
      "memory usage: 6.1+ MB\n"
     ]
    },
    {
     "data": {
      "text/html": [
       "<div>\n",
       "<style scoped>\n",
       "    .dataframe tbody tr th:only-of-type {\n",
       "        vertical-align: middle;\n",
       "    }\n",
       "\n",
       "    .dataframe tbody tr th {\n",
       "        vertical-align: top;\n",
       "    }\n",
       "\n",
       "    .dataframe thead th {\n",
       "        text-align: right;\n",
       "    }\n",
       "</style>\n",
       "<table border=\"1\" class=\"dataframe\">\n",
       "  <thead>\n",
       "    <tr style=\"text-align: right;\">\n",
       "      <th></th>\n",
       "      <th>itemid</th>\n",
       "      <th>hospitalization_id</th>\n",
       "      <th>recorded_dttm</th>\n",
       "      <th>vital_name</th>\n",
       "      <th>vital_category</th>\n",
       "      <th>vital_value</th>\n",
       "      <th>valueuom</th>\n",
       "      <th>meas_site_name</th>\n",
       "    </tr>\n",
       "  </thead>\n",
       "  <tbody>\n",
       "    <tr>\n",
       "      <th>11</th>\n",
       "      <td>224642</td>\n",
       "      <td>20626031</td>\n",
       "      <td>12/16/2132 0:00</td>\n",
       "      <td>Temperature Site</td>\n",
       "      <td>temp_c</td>\n",
       "      <td>NaN</td>\n",
       "      <td>NaN</td>\n",
       "      <td>SPECIAL CASE</td>\n",
       "    </tr>\n",
       "    <tr>\n",
       "      <th>22</th>\n",
       "      <td>224642</td>\n",
       "      <td>20626031</td>\n",
       "      <td>12/16/2132 1:00</td>\n",
       "      <td>Temperature Site</td>\n",
       "      <td>temp_c</td>\n",
       "      <td>NaN</td>\n",
       "      <td>NaN</td>\n",
       "      <td>SPECIAL CASE</td>\n",
       "    </tr>\n",
       "    <tr>\n",
       "      <th>29</th>\n",
       "      <td>224642</td>\n",
       "      <td>20626031</td>\n",
       "      <td>12/16/2132 2:00</td>\n",
       "      <td>Temperature Site</td>\n",
       "      <td>temp_c</td>\n",
       "      <td>NaN</td>\n",
       "      <td>NaN</td>\n",
       "      <td>SPECIAL CASE</td>\n",
       "    </tr>\n",
       "    <tr>\n",
       "      <th>49</th>\n",
       "      <td>224642</td>\n",
       "      <td>20626031</td>\n",
       "      <td>12/16/2132 3:00</td>\n",
       "      <td>Temperature Site</td>\n",
       "      <td>temp_c</td>\n",
       "      <td>NaN</td>\n",
       "      <td>NaN</td>\n",
       "      <td>SPECIAL CASE</td>\n",
       "    </tr>\n",
       "    <tr>\n",
       "      <th>51</th>\n",
       "      <td>224642</td>\n",
       "      <td>20626031</td>\n",
       "      <td>12/16/2132 4:00</td>\n",
       "      <td>Temperature Site</td>\n",
       "      <td>temp_c</td>\n",
       "      <td>NaN</td>\n",
       "      <td>NaN</td>\n",
       "      <td>SPECIAL CASE</td>\n",
       "    </tr>\n",
       "  </tbody>\n",
       "</table>\n",
       "</div>"
      ],
      "text/plain": [
       "    itemid  hospitalization_id    recorded_dttm        vital_name  \\\n",
       "11  224642            20626031  12/16/2132 0:00  Temperature Site   \n",
       "22  224642            20626031  12/16/2132 1:00  Temperature Site   \n",
       "29  224642            20626031  12/16/2132 2:00  Temperature Site   \n",
       "49  224642            20626031  12/16/2132 3:00  Temperature Site   \n",
       "51  224642            20626031  12/16/2132 4:00  Temperature Site   \n",
       "\n",
       "   vital_category  vital_value valueuom meas_site_name  \n",
       "11         temp_c          NaN      NaN   SPECIAL CASE  \n",
       "22         temp_c          NaN      NaN   SPECIAL CASE  \n",
       "29         temp_c          NaN      NaN   SPECIAL CASE  \n",
       "49         temp_c          NaN      NaN   SPECIAL CASE  \n",
       "51         temp_c          NaN      NaN   SPECIAL CASE  "
      ]
     },
     "execution_count": 414,
     "metadata": {},
     "output_type": "execute_result"
    }
   ],
   "source": [
    "#let's see how our data looks now\n",
    "merged_data.info()\n",
    "#we still have some missingness in the vital_value column\n",
    "#let's investigate that\n",
    "missing_data = merged_data[merged_data['vital_value'].isna()]\n",
    "missing_data.head()"
   ]
  },
  {
   "cell_type": "code",
   "execution_count": 416,
   "id": "92903ca0-a189-4f0d-9d3a-4bfd70ca4cfa",
   "metadata": {},
   "outputs": [
    {
     "name": "stdout",
     "output_type": "stream",
     "text": [
      "meas_site_name\n",
      "not specified    66420\n",
      "arterial         18069\n",
      "SPECIAL CASE      4185\n",
      "Name: count, dtype: int64\n"
     ]
    }
   ],
   "source": [
    "#let's look at the rows with meas_site_name = SPECIAL CASE\n",
    "print(merged_data['meas_site_name'].value_counts())\n",
    "special_case = merged_data[merged_data['meas_site_name'] == 'SPECIAL CASE']\n",
    "special_case.head()\n",
    "#it appears we need to remove the temp_c rows with NaN in the valueuom column\n",
    "merged_data = merged_data[~((merged_data['vital_category'] == 'temp_c') & (merged_data['valueuom'] != '°C'))]"
   ]
  },
  {
   "cell_type": "code",
   "execution_count": 418,
   "id": "e989e2b7-4764-4766-ad5a-0240be2cf9a2",
   "metadata": {},
   "outputs": [
    {
     "data": {
      "text/plain": [
       "False"
      ]
     },
     "execution_count": 418,
     "metadata": {},
     "output_type": "execute_result"
    }
   ],
   "source": [
    "#let's check height to make sure eveything is cm, no NaN\n",
    "height = merged_data[merged_data['vital_category'] == 'height_cm']\n",
    "height.head()\n",
    "height['valueuom'].isna().any()\n",
    "#looks good!"
   ]
  },
  {
   "cell_type": "code",
   "execution_count": 420,
   "id": "9d20bd3f-41ed-4467-87a6-a7bdc440a942",
   "metadata": {},
   "outputs": [],
   "source": [
    "#let's check weight to make sure eveything is kg, no NaN\n",
    "weight = merged_data[merged_data['vital_category'] == 'weight_kg']\n",
    "weight.head()\n",
    "#let's remove any weight_kg rows without kg as the unit\n",
    "merged_data = merged_data[~((merged_data['vital_category'] == 'weight_kg') & (merged_data['valueuom'] != 'kg'))]"
   ]
  },
  {
   "cell_type": "code",
   "execution_count": 422,
   "id": "541acf70-98db-4ce2-b3c6-597d0386a5d8",
   "metadata": {},
   "outputs": [
    {
     "data": {
      "text/plain": [
       "False"
      ]
     },
     "execution_count": 422,
     "metadata": {},
     "output_type": "execute_result"
    }
   ],
   "source": [
    "#let's check map to make sure eveything is mmHg, no NaN\n",
    "c_map = merged_data[merged_data['vital_category'] == 'map']\n",
    "c_map['valueuom'].isna().any()\n",
    "#looks good!"
   ]
  },
  {
   "cell_type": "code",
   "execution_count": 424,
   "id": "01631af3-41f7-4f33-918c-95752bdc3f67",
   "metadata": {},
   "outputs": [
    {
     "data": {
      "text/plain": [
       "False"
      ]
     },
     "execution_count": 424,
     "metadata": {},
     "output_type": "execute_result"
    }
   ],
   "source": [
    "#let's check spo2 to make sure eveything is %, no NaN\n",
    "spo = merged_data[merged_data['vital_category'] == 'spo2']\n",
    "spo['valueuom'].isna().any()\n",
    "#looks good!"
   ]
  },
  {
   "cell_type": "code",
   "execution_count": 426,
   "id": "e1b4e477-0f05-46f3-9be9-e2ee4e7453c7",
   "metadata": {},
   "outputs": [
    {
     "name": "stdout",
     "output_type": "stream",
     "text": [
      "<class 'pandas.core.frame.DataFrame'>\n",
      "Index: 85521 entries, 6 to 125768\n",
      "Data columns (total 8 columns):\n",
      " #   Column              Non-Null Count  Dtype  \n",
      "---  ------              --------------  -----  \n",
      " 0   itemid              85521 non-null  int64  \n",
      " 1   hospitalization_id  85521 non-null  int64  \n",
      " 2   recorded_dttm       85521 non-null  object \n",
      " 3   vital_name          85521 non-null  object \n",
      " 4   vital_category      85521 non-null  object \n",
      " 5   vital_value         85521 non-null  float64\n",
      " 6   valueuom            85521 non-null  object \n",
      " 7   meas_site_name      84880 non-null  object \n",
      "dtypes: float64(1), int64(2), object(5)\n",
      "memory usage: 5.9+ MB\n"
     ]
    }
   ],
   "source": [
    "#let's check our missing now\n",
    "merged_data.info()\n",
    "#yay now there's no missing in the vital_value column\n",
    "#we don't need valueuom, and some rows don't require units anyways\n",
    "#meas_site_name is optional, so that missingness is okay"
   ]
  },
  {
   "cell_type": "code",
   "execution_count": 428,
   "id": "3d6e41b3-81f1-4e52-a59f-ec7906886c99",
   "metadata": {},
   "outputs": [],
   "source": [
    "#now let's make sure we have the correct data types\n",
    "merged_data.dtypes\n",
    "#we need to make hosp_id into a string\n",
    "merged_data['hospitalization_id'] = merged_data['hospitalization_id'].astype(str)\n",
    "#we need to make recorded_dttm into datetime UTC\n",
    "merged_data['recorded_dttm'] = pd.to_datetime(merged_data['recorded_dttm'])\n",
    "merged_data['recorded_dttm'] = merged_data['recorded_dttm'].dt.tz_localize('UTC')"
   ]
  },
  {
   "cell_type": "code",
   "execution_count": 430,
   "id": "9c53ee25-7eff-46cb-90e5-83f418dee4b3",
   "metadata": {},
   "outputs": [
    {
     "data": {
      "text/plain": [
       "itemid                              int64\n",
       "hospitalization_id                 object\n",
       "recorded_dttm         datetime64[ns, UTC]\n",
       "vital_name                         object\n",
       "vital_category                     object\n",
       "vital_value                       float64\n",
       "valueuom                           object\n",
       "meas_site_name                     object\n",
       "dtype: object"
      ]
     },
     "execution_count": 430,
     "metadata": {},
     "output_type": "execute_result"
    }
   ],
   "source": [
    "#let's check the data types now\n",
    "merged_data.dtypes\n",
    "#looks good!"
   ]
  },
  {
   "cell_type": "code",
   "execution_count": 432,
   "id": "96c4240e-2751-48a3-bdd1-74a4454a377e",
   "metadata": {},
   "outputs": [
    {
     "data": {
      "text/html": [
       "<div>\n",
       "<style scoped>\n",
       "    .dataframe tbody tr th:only-of-type {\n",
       "        vertical-align: middle;\n",
       "    }\n",
       "\n",
       "    .dataframe tbody tr th {\n",
       "        vertical-align: top;\n",
       "    }\n",
       "\n",
       "    .dataframe thead th {\n",
       "        text-align: right;\n",
       "    }\n",
       "</style>\n",
       "<table border=\"1\" class=\"dataframe\">\n",
       "  <thead>\n",
       "    <tr style=\"text-align: right;\">\n",
       "      <th></th>\n",
       "      <th>itemid</th>\n",
       "      <th>hospitalization_id</th>\n",
       "      <th>recorded_dttm</th>\n",
       "      <th>vital_name</th>\n",
       "      <th>vital_category</th>\n",
       "      <th>vital_value</th>\n",
       "      <th>valueuom</th>\n",
       "      <th>meas_site_name</th>\n",
       "    </tr>\n",
       "  </thead>\n",
       "  <tbody>\n",
       "    <tr>\n",
       "      <th>6</th>\n",
       "      <td>220210</td>\n",
       "      <td>20626031</td>\n",
       "      <td>2132-12-16 00:00:00+00:00</td>\n",
       "      <td>Respiratory Rate</td>\n",
       "      <td>respiratory_rate</td>\n",
       "      <td>19.0</td>\n",
       "      <td>insp/min</td>\n",
       "      <td>not specified</td>\n",
       "    </tr>\n",
       "    <tr>\n",
       "      <th>7</th>\n",
       "      <td>220051</td>\n",
       "      <td>20626031</td>\n",
       "      <td>2132-12-16 00:00:00+00:00</td>\n",
       "      <td>Arterial Blood Pressure diastolic</td>\n",
       "      <td>dbp</td>\n",
       "      <td>37.0</td>\n",
       "      <td>mmHg</td>\n",
       "      <td>arterial</td>\n",
       "    </tr>\n",
       "    <tr>\n",
       "      <th>9</th>\n",
       "      <td>223762</td>\n",
       "      <td>20626031</td>\n",
       "      <td>2132-12-16 00:00:00+00:00</td>\n",
       "      <td>Temperature Celsius</td>\n",
       "      <td>temp_c</td>\n",
       "      <td>37.0</td>\n",
       "      <td>°C</td>\n",
       "      <td>SPECIAL CASE</td>\n",
       "    </tr>\n",
       "    <tr>\n",
       "      <th>12</th>\n",
       "      <td>220052</td>\n",
       "      <td>20626031</td>\n",
       "      <td>2132-12-16 00:00:00+00:00</td>\n",
       "      <td>Arterial Blood Pressure mean</td>\n",
       "      <td>map</td>\n",
       "      <td>58.0</td>\n",
       "      <td>mmHg</td>\n",
       "      <td>arterial</td>\n",
       "    </tr>\n",
       "    <tr>\n",
       "      <th>13</th>\n",
       "      <td>220045</td>\n",
       "      <td>20626031</td>\n",
       "      <td>2132-12-16 00:00:00+00:00</td>\n",
       "      <td>Heart Rate</td>\n",
       "      <td>heart_rate</td>\n",
       "      <td>80.0</td>\n",
       "      <td>bpm</td>\n",
       "      <td>not specified</td>\n",
       "    </tr>\n",
       "  </tbody>\n",
       "</table>\n",
       "</div>"
      ],
      "text/plain": [
       "    itemid hospitalization_id             recorded_dttm  \\\n",
       "6   220210           20626031 2132-12-16 00:00:00+00:00   \n",
       "7   220051           20626031 2132-12-16 00:00:00+00:00   \n",
       "9   223762           20626031 2132-12-16 00:00:00+00:00   \n",
       "12  220052           20626031 2132-12-16 00:00:00+00:00   \n",
       "13  220045           20626031 2132-12-16 00:00:00+00:00   \n",
       "\n",
       "                           vital_name    vital_category  vital_value  \\\n",
       "6                    Respiratory Rate  respiratory_rate         19.0   \n",
       "7   Arterial Blood Pressure diastolic               dbp         37.0   \n",
       "9                 Temperature Celsius            temp_c         37.0   \n",
       "12       Arterial Blood Pressure mean               map         58.0   \n",
       "13                         Heart Rate        heart_rate         80.0   \n",
       "\n",
       "    valueuom meas_site_name  \n",
       "6   insp/min  not specified  \n",
       "7       mmHg       arterial  \n",
       "9         °C   SPECIAL CASE  \n",
       "12      mmHg       arterial  \n",
       "13       bpm  not specified  "
      ]
     },
     "execution_count": 432,
     "metadata": {},
     "output_type": "execute_result"
    }
   ],
   "source": [
    "merged_data.head()"
   ]
  },
  {
   "cell_type": "code",
   "execution_count": 434,
   "id": "7037232a-e1da-4f62-ab1d-e3fbeec8ac19",
   "metadata": {},
   "outputs": [
    {
     "name": "stdout",
     "output_type": "stream",
     "text": [
      "<class 'pandas.core.frame.DataFrame'>\n",
      "Index: 85521 entries, 6 to 125768\n",
      "Data columns (total 6 columns):\n",
      " #   Column              Non-Null Count  Dtype              \n",
      "---  ------              --------------  -----              \n",
      " 0   hospitalization_id  85521 non-null  object             \n",
      " 1   recorded_dttm       85521 non-null  datetime64[ns, UTC]\n",
      " 2   vital_name          85521 non-null  object             \n",
      " 3   vital_category      85521 non-null  object             \n",
      " 4   vital_value         85521 non-null  float64            \n",
      " 5   meas_site_name      84880 non-null  object             \n",
      "dtypes: datetime64[ns, UTC](1), float64(1), object(4)\n",
      "memory usage: 4.6+ MB\n"
     ]
    }
   ],
   "source": [
    "#we don't need itemid or valueuom in our final dataset, so let's remove those\n",
    "df_final = merged_data[['hospitalization_id', 'recorded_dttm', 'vital_name', 'vital_category', 'vital_value', 'meas_site_name']]\n",
    "df_final.info()"
   ]
  },
  {
   "cell_type": "code",
   "execution_count": 464,
   "id": "a529cb56-7bc6-48b6-be43-6dfaeef57160",
   "metadata": {},
   "outputs": [],
   "source": [
    "#export dataframe\n",
    "df_final.to_csv('final_formatted_df.csv', index = False)"
   ]
  }
 ],
 "metadata": {
  "kernelspec": {
   "display_name": "Python [conda env:base] *",
   "language": "python",
   "name": "conda-base-py"
  },
  "language_info": {
   "codemirror_mode": {
    "name": "ipython",
    "version": 3
   },
   "file_extension": ".py",
   "mimetype": "text/x-python",
   "name": "python",
   "nbconvert_exporter": "python",
   "pygments_lexer": "ipython3",
   "version": "3.12.7"
  }
 },
 "nbformat": 4,
 "nbformat_minor": 5
}
